{
 "cells": [
  {
   "cell_type": "code",
   "execution_count": 73,
   "id": "continuing-retention",
   "metadata": {},
   "outputs": [],
   "source": [
    "import os\n",
    "import numpy as np\n",
    "import cv2\n",
    "\n",
    "class PhotoProcessor:\n",
    "    \n",
    "    def __init__(self):\n",
    "        pass\n",
    "    \n",
    "    def __call__(self, path=''):\n",
    "        data = {}\n",
    "        extension = os.path.splitext(path)[-1]\n",
    "        mx = None\n",
    "        \n",
    "        # load\n",
    "        if extension in ['.jpg', '.jpeg']:\n",
    "            mx = cv2.imread(path, cv2.IMREAD_UNCHANGED)\n",
    "        \n",
    "        if mx is None:\n",
    "            return data\n",
    "        \n",
    "        return data"
   ]
  },
  {
   "cell_type": "code",
   "execution_count": 74,
   "id": "crude-negotiation",
   "metadata": {},
   "outputs": [
    {
     "data": {
      "text/plain": [
       "{}"
      ]
     },
     "execution_count": 74,
     "metadata": {},
     "output_type": "execute_result"
    }
   ],
   "source": [
    "pp = PhotoProcessor()\n",
    "pp('../../../test/church1.jpg')"
   ]
  },
  {
   "cell_type": "code",
   "execution_count": null,
   "id": "understood-madonna",
   "metadata": {},
   "outputs": [],
   "source": []
  }
 ],
 "metadata": {
  "kernelspec": {
   "display_name": "Python 3",
   "language": "python",
   "name": "python3"
  },
  "language_info": {
   "codemirror_mode": {
    "name": "ipython",
    "version": 3
   },
   "file_extension": ".py",
   "mimetype": "text/x-python",
   "name": "python",
   "nbconvert_exporter": "python",
   "pygments_lexer": "ipython3",
   "version": "3.8.10"
  }
 },
 "nbformat": 4,
 "nbformat_minor": 5
}
